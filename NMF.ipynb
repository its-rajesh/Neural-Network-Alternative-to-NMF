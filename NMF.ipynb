{
 "cells": [
  {
   "cell_type": "markdown",
   "id": "7f79b12f",
   "metadata": {},
   "source": [
    "# Autoencoder-NMF Based Bleeding Removal "
   ]
  },
  {
   "cell_type": "markdown",
   "id": "a20e0734",
   "metadata": {},
   "source": [
    "### Initial - Old"
   ]
  },
  {
   "cell_type": "code",
   "execution_count": 2,
   "id": "acd2e4d1",
   "metadata": {},
   "outputs": [],
   "source": [
    "import tensorflow as tf\n",
    "from tensorflow import keras\n",
    "from tensorflow.keras.models import Model\n",
    "from tensorflow.keras.layers import Input, Dense, Flatten, Dropout, Conv2D, \\\n",
    "    MaxPool2D, BatchNormalization, MaxPooling2D, \\\n",
    "    Reshape\n",
    "from tensorflow.keras.optimizers import Adam\n",
    "from tensorflow.keras import regularizers"
   ]
  },
  {
   "cell_type": "code",
   "execution_count": 3,
   "id": "0ce87949",
   "metadata": {},
   "outputs": [],
   "source": [
    "import numpy as np"
   ]
  },
  {
   "cell_type": "code",
   "execution_count": 4,
   "id": "b50647d6",
   "metadata": {},
   "outputs": [],
   "source": [
    "import keras\n",
    "from keras import layers"
   ]
  },
  {
   "cell_type": "code",
   "execution_count": 5,
   "id": "b5f4494e",
   "metadata": {},
   "outputs": [
    {
     "data": {
      "text/plain": [
       "((3, 3, 3), (3, 3, 3), (3, 3, 3))"
      ]
     },
     "execution_count": 5,
     "metadata": {},
     "output_type": "execute_result"
    }
   ],
   "source": [
    "xtrain = [[[ 1,  0,  9],\n",
    "       [ 1, 24, 16],\n",
    "       [ 1,  7,  1]], [[ 1,  0,  1],\n",
    "       [ 1,  1, 16],\n",
    "       [ 1,  7,  1]], [[1, 0, 1],\n",
    "       [1, 0, 0],\n",
    "       [0, 0, 1]]]\n",
    "\n",
    "W = [[[1, 2, 3],[1, 2, 4], [1, 1, 1]],\n",
    "         [[1, 2, 1],[1, 1, 4], [1, 1, 1]],\n",
    "         [[1, 2, 1],[1, 1, 0], [0, 1, 1]]]\n",
    "\n",
    "H = [[[1, 0, 3],[1, 12, 4], [1, 7, 1]],\n",
    "         [[1, 0, 1],[1, 1, 4], [1, 7, 1]],\n",
    "         [[1, 0, 1],[1, 0, 4], [1, 0, 1]]]\n",
    "\n",
    "xtrain = np.array(xtrain)\n",
    "W = np.array(W)\n",
    "H = np.array(H)\n",
    "\n",
    "xtrain.shape, W.shape, H.shape"
   ]
  },
  {
   "cell_type": "code",
   "execution_count": 6,
   "id": "804abcc8",
   "metadata": {},
   "outputs": [],
   "source": [
    "def flattens(x):\n",
    "    res = []\n",
    "    for i in x:\n",
    "        res.append(i.flatten())\n",
    "    return np.array(res)"
   ]
  },
  {
   "cell_type": "code",
   "execution_count": 7,
   "id": "33228315",
   "metadata": {},
   "outputs": [],
   "source": [
    "xtrain = flattens(xtrain)\n",
    "W = flattens(W)\n",
    "H = flattens(H)"
   ]
  },
  {
   "cell_type": "code",
   "execution_count": 9,
   "id": "b136e066",
   "metadata": {},
   "outputs": [],
   "source": [
    "encoding_dim = 32 \n",
    "\n",
    "input_img = keras.Input(shape=(9,))\n",
    "\n",
    "encoded = layers.Dense(encoding_dim, activation='relu')(input_img)\n",
    "decoded = layers.Dense(9, activation='sigmoid')(encoded)\n",
    "\n",
    "\n",
    "autoencoder = keras.Model(input_img, decoded)"
   ]
  },
  {
   "cell_type": "code",
   "execution_count": 13,
   "id": "c3bc8ca4",
   "metadata": {},
   "outputs": [],
   "source": [
    "autoencoder.compile(optimizer='adam', loss='binary_crossentropy')"
   ]
  },
  {
   "cell_type": "code",
   "execution_count": 14,
   "id": "7ba0ff37",
   "metadata": {},
   "outputs": [
    {
     "name": "stdout",
     "output_type": "stream",
     "text": [
      "Epoch 1/10\n",
      "1/1 [==============================] - 1s 690ms/step - loss: 7.8608\n",
      "Epoch 2/10\n",
      "1/1 [==============================] - 0s 3ms/step - loss: 7.5767\n",
      "Epoch 3/10\n",
      "1/1 [==============================] - 0s 2ms/step - loss: 7.2947\n",
      "Epoch 4/10\n",
      "1/1 [==============================] - 0s 3ms/step - loss: 7.0148\n",
      "Epoch 5/10\n",
      "1/1 [==============================] - 0s 4ms/step - loss: 6.7370\n",
      "Epoch 6/10\n",
      "1/1 [==============================] - 0s 3ms/step - loss: 6.4614\n",
      "Epoch 7/10\n",
      "1/1 [==============================] - 0s 3ms/step - loss: 6.1879\n",
      "Epoch 8/10\n",
      "1/1 [==============================] - 0s 3ms/step - loss: 5.9167\n",
      "Epoch 9/10\n",
      "1/1 [==============================] - 0s 2ms/step - loss: 5.6476\n",
      "Epoch 10/10\n",
      "1/1 [==============================] - 0s 2ms/step - loss: 5.3806\n"
     ]
    },
    {
     "data": {
      "text/plain": [
       "<keras.callbacks.History at 0x7f0698112d70>"
      ]
     },
     "execution_count": 14,
     "metadata": {},
     "output_type": "execute_result"
    }
   ],
   "source": [
    "autoencoder.fit(xtrain, H,\n",
    "                epochs=10,\n",
    "                batch_size=16,\n",
    "                shuffle=True)"
   ]
  },
  {
   "cell_type": "markdown",
   "id": "5bd8a1ff",
   "metadata": {},
   "source": [
    "### Paris Smaragdis's Paper Recreation"
   ]
  },
  {
   "cell_type": "code",
   "execution_count": 59,
   "id": "35141843",
   "metadata": {},
   "outputs": [],
   "source": [
    "import librosa as lb\n",
    "from matplotlib import pyplot as plt\n",
    "import numpy as np\n",
    "import os\n",
    "from librosa import display"
   ]
  },
  {
   "cell_type": "code",
   "execution_count": 63,
   "id": "d345cec5",
   "metadata": {},
   "outputs": [],
   "source": [
    "from sklearn.decomposition import NMF"
   ]
  },
  {
   "cell_type": "code",
   "execution_count": 54,
   "id": "1cb5ac0f",
   "metadata": {
    "scrolled": true
   },
   "outputs": [
    {
     "data": {
      "text/plain": [
       "(array([6.4943055e-07, 1.1331637e-05, 5.1647457e-05, ..., 1.5321817e-05,\n",
       "        1.5143011e-05, 1.5781023e-05], dtype=float32),\n",
       " 22050)"
      ]
     },
     "execution_count": 54,
     "metadata": {},
     "output_type": "execute_result"
    }
   ],
   "source": [
    "audio, fs = lb.load('/home/rajesh/Desktop/pianonotes.wav')\n",
    "audio, fs"
   ]
  },
  {
   "cell_type": "code",
   "execution_count": 55,
   "id": "7bc09de8",
   "metadata": {},
   "outputs": [],
   "source": [
    "stft_audio = lb.stft(audio)"
   ]
  },
  {
   "cell_type": "code",
   "execution_count": 107,
   "id": "d2f20494",
   "metadata": {},
   "outputs": [
    {
     "data": {
      "image/png": "[encoded data removed]",
      "text/plain": [
       "<Figure size 432x288 with 1 Axes>"
      ]
     },
     "metadata": {
      "needs_background": "light"
     },
     "output_type": "display_data"
    }
   ],
   "source": [
    "lb.display.specshow(lb.amplitude_to_db(np.abs(stft_audio), ref=np.max),\n",
    "                               y_axis='log', x_axis='time')\n",
    "plt.title('Input Spectrogram')\n",
    "plt.show()"
   ]
  },
  {
   "cell_type": "code",
   "execution_count": 64,
   "id": "e0358367",
   "metadata": {},
   "outputs": [],
   "source": [
    "model = NMF(n_components=4, init='random', random_state=0)\n",
    "W = model.fit_transform(np.abs(stft_audio))\n",
    "H = model.components_"
   ]
  },
  {
   "cell_type": "code",
   "execution_count": 68,
   "id": "a6625300",
   "metadata": {},
   "outputs": [
    {
     "data": {
      "text/plain": [
       "((1025, 4), (4, 206))"
      ]
     },
     "execution_count": 68,
     "metadata": {},
     "output_type": "execute_result"
    }
   ],
   "source": [
    "W.shape, H.shape"
   ]
  },
  {
   "cell_type": "code",
   "execution_count": 105,
   "id": "3e6d5bde",
   "metadata": {},
   "outputs": [
    {
     "data": {
      "image/png": "[encoded data removed]",
      "text/plain": [
       "<Figure size 432x288 with 4 Axes>"
      ]
     },
     "metadata": {
      "needs_background": "light"
     },
     "output_type": "display_data"
    }
   ],
   "source": [
    "plt.subplots()\n",
    "plt.subplot(4, 1, 1)\n",
    "plt.plot(W.T[0])\n",
    "plt.axis('off')\n",
    "plt.subplot(4, 1, 2)\n",
    "plt.plot(W.T[1])\n",
    "plt.axis('off')\n",
    "plt.subplot(4, 1, 3)\n",
    "plt.plot(W.T[2])\n",
    "plt.axis('off')\n",
    "plt.subplot(4, 1, 4)\n",
    "plt.plot(W.T[3])\n",
    "plt.axis('off')\n",
    "plt.suptitle('Bases (Spectra)')\n",
    "plt.show()"
   ]
  },
  {
   "cell_type": "code",
   "execution_count": 94,
   "id": "ab209fd0",
   "metadata": {},
   "outputs": [
    {
     "data": {
      "image/png": "[encoded data removed]",
      "text/plain": [
       "<Figure size 432x288 with 4 Axes>"
      ]
     },
     "metadata": {
      "needs_background": "light"
     },
     "output_type": "display_data"
    }
   ],
   "source": [
    "plt.subplots()\n",
    "plt.subplot(4, 1, 1)\n",
    "plt.plot(H[0])\n",
    "plt.axis('off')\n",
    "plt.subplot(4, 1, 2)\n",
    "plt.plot(H[1])\n",
    "plt.axis('off')\n",
    "plt.subplot(4, 1, 3)\n",
    "plt.plot(H[2])\n",
    "plt.axis('off')\n",
    "plt.subplot(4, 1, 4)\n",
    "plt.plot(H[3])\n",
    "plt.axis('off')\n",
    "plt.suptitle('Activations')\n",
    "plt.show()"
   ]
  },
  {
   "cell_type": "markdown",
   "id": "03109201",
   "metadata": {},
   "source": [
    "### Temp Sample Random Dataset Creation"
   ]
  },
  {
   "cell_type": "code",
   "execution_count": 147,
   "id": "601d0733",
   "metadata": {},
   "outputs": [
    {
     "data": {
      "text/plain": [
       "(50, 20)"
      ]
     },
     "execution_count": 147,
     "metadata": {},
     "output_type": "execute_result"
    }
   ],
   "source": [
    "train = []\n",
    "\n",
    "for i in range(70):\n",
    "    r = np.random.randint(100, 200)\n",
    "    train.append(np.random.rand(3,r))\n",
    "    \n",
    "xtrain = train[:50]\n",
    "xtest = train[50:]\n",
    "\n",
    "len(xtrain), len(xtest)"
   ]
  },
  {
   "cell_type": "code",
   "execution_count": 148,
   "id": "666aadb6",
   "metadata": {},
   "outputs": [],
   "source": [
    "xtrain = tf.ragged.constant(xtrain)\n",
    "xtest = tf.ragged.constant(xtest)"
   ]
  },
  {
   "cell_type": "code",
   "execution_count": null,
   "id": "9a411936",
   "metadata": {},
   "outputs": [],
   "source": []
  },
  {
   "cell_type": "code",
   "execution_count": null,
   "id": "622f1289",
   "metadata": {},
   "outputs": [],
   "source": []
  },
  {
   "cell_type": "code",
   "execution_count": 149,
   "id": "86e96c2e",
   "metadata": {},
   "outputs": [],
   "source": [
    "ytrain = xtrain\n",
    "ytest = xtest"
   ]
  },
  {
   "cell_type": "markdown",
   "id": "24e1c1ff",
   "metadata": {},
   "source": [
    "### NMF CAE Model"
   ]
  },
  {
   "cell_type": "code",
   "execution_count": 150,
   "id": "ea4140bc",
   "metadata": {},
   "outputs": [],
   "source": [
    "import tensorflow as tf\n",
    "from tensorflow import keras\n",
    "from tensorflow.keras.models import Model\n",
    "from tensorflow.keras.layers import Input, Dense, Flatten, Dropout, Conv2D, Conv2DTranspose\n",
    "from tensorflow.keras.optimizers import Adam\n",
    "from tensorflow.keras import regularizers"
   ]
  },
  {
   "cell_type": "code",
   "execution_count": 161,
   "id": "daabd49b",
   "metadata": {},
   "outputs": [],
   "source": [
    "batch_size = 16\n",
    "epochs = 2\n",
    "inp = Input(shape =(3, None, 1))\n",
    "out_dim = inp"
   ]
  },
  {
   "cell_type": "code",
   "execution_count": 162,
   "id": "64c48627",
   "metadata": {},
   "outputs": [
    {
     "name": "stdout",
     "output_type": "stream",
     "text": [
      "Input: (None, 3, None, 1)\n",
      "Layer 1: (None, 1, None, 1)\n",
      "Layer 2: (None, 3, None, 1)\n"
     ]
    }
   ],
   "source": [
    "print('Input:', inp.shape)\n",
    "\n",
    "H = Conv2D(1, 3, activation='relu', kernel_regularizer='l1')(inp)\n",
    "H = BatchNormalization()(H)\n",
    "\n",
    "print('Layer 1:', H.shape)\n",
    "\n",
    "X_ = Conv2DTranspose(1, 3, activation='relu')(H)\n",
    "X_ = BatchNormalization()(X_)\n",
    "\n",
    "print('Layer 2:', X_.shape)"
   ]
  },
  {
   "cell_type": "code",
   "execution_count": 163,
   "id": "c260d613",
   "metadata": {},
   "outputs": [],
   "source": [
    "class JointLoss(tf.keras.losses.Loss):\n",
    "    \n",
    "    def __init__(self):\n",
    "        super().__init__()\n",
    "        \n",
    "    def call(self, y_true, y_pred):\n",
    "        \n",
    "        D = y_true * log(y_true / y_pred) - y_true + y_pred\n",
    "        \n",
    "        return D\n",
    "        #mse = tf.reduce_mean(tf.square(y_pred-y_true))\n",
    "        #rmse = tf.math.sqrt(mse)\n",
    "        #return rmse / tf.reduce_mean(tf.square(y_true)) - 1"
   ]
  },
  {
   "cell_type": "code",
   "execution_count": 164,
   "id": "3c8b5066",
   "metadata": {},
   "outputs": [],
   "source": [
    "NAE = Model(inp, X_)\n",
    "#NAE.compile(optimizer='adam', loss='mse')\n",
    "NAE.compile(optimizer=Adam(learning_rate=0.001), loss=JointLoss())"
   ]
  },
  {
   "cell_type": "code",
   "execution_count": null,
   "id": "309387f6",
   "metadata": {},
   "outputs": [],
   "source": [
    "autoencoder.fit(xtrain, ytrain,\n",
    "                epochs=epochs,\n",
    "                batch_size=batch_size,\n",
    "                shuffle=True)"
   ]
  },
  {
   "cell_type": "code",
   "execution_count": null,
   "id": "1fe86121",
   "metadata": {},
   "outputs": [],
   "source": []
  },
  {
   "cell_type": "markdown",
   "id": "fdd545e2",
   "metadata": {},
   "source": [
    "### NMF Reccurent Model"
   ]
  },
  {
   "cell_type": "code",
   "execution_count": 178,
   "id": "d6b86d68",
   "metadata": {},
   "outputs": [],
   "source": [
    "from keras.models import Sequential\n",
    "from keras.layers import LSTM, Dense, TimeDistributed\n",
    "from keras.utils import to_categorical\n",
    "import numpy as np"
   ]
  },
  {
   "cell_type": "code",
   "execution_count": 179,
   "id": "0ee75d51",
   "metadata": {},
   "outputs": [],
   "source": [
    "model = Sequential()\n",
    "\n",
    "model.add(LSTM(32, return_sequences=True, input_shape=(None, 5)))\n",
    "model.add(LSTM(8, return_sequences=True))\n",
    "model.add(TimeDistributed(Dense(2, activation='sigmoid')))"
   ]
  },
  {
   "cell_type": "code",
   "execution_count": 180,
   "id": "bbc32125",
   "metadata": {},
   "outputs": [],
   "source": [
    "model.compile(loss='categorical_crossentropy', optimizer='adam')"
   ]
  },
  {
   "cell_type": "code",
   "execution_count": null,
   "id": "a902c730",
   "metadata": {},
   "outputs": [],
   "source": [
    "model.fit(xtrain, ytrain,\n",
    "                epochs=epochs,\n",
    "                batch_size=batch_size,\n",
    "                shuffle=True)"
   ]
  },
  {
   "cell_type": "code",
   "execution_count": 181,
   "id": "f6c3df62",
   "metadata": {},
   "outputs": [],
   "source": [
    "def train_generator():\n",
    "    while True:\n",
    "        sequence_length = np.random.randint(10, 100)\n",
    "        x_train = np.random.random((1000, sequence_length, 5))\n",
    "        # y_train will depend on past 5 timesteps of x\n",
    "        y_train = x_train[:, :, 0]\n",
    "        for i in range(1, 5):\n",
    "            y_train[:, i:] += x_train[:, :-i, i]\n",
    "        y_train = to_categorical(y_train > 2.5)\n",
    "        yield x_train, y_train"
   ]
  },
  {
   "cell_type": "code",
   "execution_count": 182,
   "id": "eb564a30",
   "metadata": {},
   "outputs": [
    {
     "name": "stdout",
     "output_type": "stream",
     "text": [
      "Epoch 1/10\n"
     ]
    },
    {
     "name": "stderr",
     "output_type": "stream",
     "text": [
      "/tmp/ipykernel_642070/1145235773.py:1: UserWarning: `Model.fit_generator` is deprecated and will be removed in a future version. Please use `Model.fit`, which supports generators.\n",
      "  model.fit_generator(train_generator(), steps_per_epoch=30, epochs=10, verbose=1)\n"
     ]
    },
    {
     "name": "stdout",
     "output_type": "stream",
     "text": [
      "30/30 [==============================] - 5s 86ms/step - loss: 0.6900\n",
      "Epoch 2/10\n",
      "30/30 [==============================] - 3s 98ms/step - loss: 0.6791\n",
      "Epoch 3/10\n",
      "30/30 [==============================] - 3s 92ms/step - loss: 0.6464\n",
      "Epoch 4/10\n",
      "30/30 [==============================] - 3s 101ms/step - loss: 0.5713\n",
      "Epoch 5/10\n",
      "30/30 [==============================] - 3s 90ms/step - loss: 0.4706\n",
      "Epoch 6/10\n",
      "30/30 [==============================] - 3s 95ms/step - loss: 0.3821\n",
      "Epoch 7/10\n",
      "30/30 [==============================] - 3s 99ms/step - loss: 0.3117\n",
      "Epoch 8/10\n",
      "30/30 [==============================] - 3s 103ms/step - loss: 0.2579\n",
      "Epoch 9/10\n",
      "30/30 [==============================] - 3s 91ms/step - loss: 0.2164\n",
      "Epoch 10/10\n",
      "30/30 [==============================] - 3s 110ms/step - loss: 0.1872\n"
     ]
    },
    {
     "data": {
      "text/plain": [
       "<keras.callbacks.History at 0x7f05d84b3850>"
      ]
     },
     "execution_count": 182,
     "metadata": {},
     "output_type": "execute_result"
    }
   ],
   "source": [
    "model.fit_generator(train_generator(), steps_per_epoch=30, epochs=10, verbose=1)"
   ]
  },
  {
   "cell_type": "code",
   "execution_count": null,
   "id": "2671b7c0",
   "metadata": {},
   "outputs": [],
   "source": []
  },
  {
   "cell_type": "code",
   "execution_count": null,
   "id": "be1b8b6d",
   "metadata": {},
   "outputs": [],
   "source": []
  },
  {
   "cell_type": "code",
   "execution_count": null,
   "id": "3c4e7326",
   "metadata": {},
   "outputs": [],
   "source": []
  },
  {
   "cell_type": "code",
   "execution_count": null,
   "id": "dc6f2671",
   "metadata": {},
   "outputs": [],
   "source": []
  },
  {
   "cell_type": "code",
   "execution_count": null,
   "id": "cc535269",
   "metadata": {},
   "outputs": [],
   "source": []
  },
  {
   "cell_type": "code",
   "execution_count": null,
   "id": "180fe000",
   "metadata": {},
   "outputs": [],
   "source": [
    "\n"
   ]
  }
 ],
 "metadata": {
  "kernelspec": {
   "display_name": "Python 3 (ipykernel)",
   "language": "python",
   "name": "python3"
  },
  "language_info": {
   "codemirror_mode": {
    "name": "ipython",
    "version": 3
   },
   "file_extension": ".py",
   "mimetype": "text/x-python",
   "name": "python",
   "nbconvert_exporter": "python",
   "pygments_lexer": "ipython3",
   "version": "3.10.6"
  }
 },
 "nbformat": 4,
 "nbformat_minor": 5
}
