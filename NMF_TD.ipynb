{
 "cells": [
  {
   "cell_type": "markdown",
   "id": "3f08902a",
   "metadata": {},
   "source": [
    "# Sklearn NMF - Rough Way"
   ]
  },
  {
   "cell_type": "code",
   "execution_count": 1,
   "id": "5b41b0ce",
   "metadata": {},
   "outputs": [],
   "source": [
    "import numpy as np\n",
    "from matplotlib import pyplot as plt"
   ]
  },
  {
   "cell_type": "code",
   "execution_count": 2,
   "id": "390efb51",
   "metadata": {},
   "outputs": [],
   "source": [
    "import os\n",
    "import librosa as lb\n",
    "import soundfile as sf\n",
    "from sklearn.decomposition import NMF"
   ]
  },
  {
   "cell_type": "code",
   "execution_count": 3,
   "id": "abdc8081",
   "metadata": {},
   "outputs": [],
   "source": [
    "path = \"/home/rajesh/Desktop/Datasets/Saraga3stem/train/Aaniraimekkani/\""
   ]
  },
  {
   "cell_type": "markdown",
   "id": "16f62e33",
   "metadata": {},
   "source": [
    "### Data Processing"
   ]
  },
  {
   "cell_type": "code",
   "execution_count": 4,
   "id": "2ef81f7a",
   "metadata": {},
   "outputs": [
    {
     "data": {
      "text/plain": [
       "['vocals.wav',\n",
       " 'violin.wav',\n",
       " 'mixture.wav',\n",
       " 'mridangam.wav',\n",
       " 'accompaniment.wav']"
      ]
     },
     "execution_count": 4,
     "metadata": {},
     "output_type": "execute_result"
    }
   ],
   "source": [
    "files = os.listdir(path)\n",
    "files"
   ]
  },
  {
   "cell_type": "code",
   "execution_count": 5,
   "id": "71c0368d",
   "metadata": {},
   "outputs": [],
   "source": [
    "m, m_fs = sf.read(path+'mixture.wav')\n",
    "b1, b1_fs = sf.read(path+'mridangam.wav')\n",
    "b2, b2_fs = sf.read(path+'vocals.wav')\n",
    "b3, b3_fs = sf.read(path+'violin.wav')"
   ]
  },
  {
   "cell_type": "code",
   "execution_count": 6,
   "id": "3915e60f",
   "metadata": {},
   "outputs": [
    {
     "name": "stdout",
     "output_type": "stream",
     "text": [
      "44100 44100 44100 44100\n"
     ]
    }
   ],
   "source": [
    "print(m_fs, b1_fs, b2_fs, b3_fs)"
   ]
  },
  {
   "cell_type": "code",
   "execution_count": 7,
   "id": "7ad355cd",
   "metadata": {},
   "outputs": [
    {
     "name": "stdout",
     "output_type": "stream",
     "text": [
      "12661103 12661103 12661103 12661103\n"
     ]
    }
   ],
   "source": [
    "print(len(m), len(b1), len(b2), len(b3))"
   ]
  },
  {
   "cell_type": "code",
   "execution_count": 8,
   "id": "db298609",
   "metadata": {},
   "outputs": [],
   "source": [
    "b1 = b1[:12661103]\n",
    "b2 = b2[:12661103]\n",
    "b3 = b3[:12661103]\n",
    "m = m[:12661103]"
   ]
  },
  {
   "cell_type": "code",
   "execution_count": 10,
   "id": "dd05bd22",
   "metadata": {},
   "outputs": [
    {
     "name": "stdout",
     "output_type": "stream",
     "text": [
      "12661103 12661103 12661103 12661103\n"
     ]
    }
   ],
   "source": [
    "print(len(m), len(b1), len(b2), len(b3))"
   ]
  },
  {
   "cell_type": "markdown",
   "id": "75fdcade",
   "metadata": {},
   "source": [
    "### Model"
   ]
  },
  {
   "cell_type": "code",
   "execution_count": 11,
   "id": "bae20b9d",
   "metadata": {},
   "outputs": [],
   "source": [
    "B = np.array([b1, b2, b3])"
   ]
  },
  {
   "cell_type": "code",
   "execution_count": 12,
   "id": "5b1abf59",
   "metadata": {},
   "outputs": [],
   "source": [
    "b = b1 + b2 + b3"
   ]
  },
  {
   "cell_type": "code",
   "execution_count": 13,
   "id": "6913faa3",
   "metadata": {},
   "outputs": [],
   "source": [
    "difference = b - m"
   ]
  },
  {
   "cell_type": "code",
   "execution_count": 14,
   "id": "d911214f",
   "metadata": {},
   "outputs": [
    {
     "data": {
      "text/plain": [
       "-1015.8340366780758"
      ]
     },
     "execution_count": 14,
     "metadata": {},
     "output_type": "execute_result"
    }
   ],
   "source": [
    "dot = np.dot(b, m)\n",
    "dot"
   ]
  },
  {
   "cell_type": "code",
   "execution_count": 15,
   "id": "40058b3c",
   "metadata": {},
   "outputs": [
    {
     "data": {
      "text/plain": [
       "(12661103,)"
      ]
     },
     "execution_count": 15,
     "metadata": {},
     "output_type": "execute_result"
    }
   ],
   "source": [
    "difference.shape"
   ]
  },
  {
   "cell_type": "code",
   "execution_count": 16,
   "id": "569056a5",
   "metadata": {},
   "outputs": [],
   "source": [
    "B_mag = np.abs(B)"
   ]
  },
  {
   "cell_type": "code",
   "execution_count": 17,
   "id": "7b6034ed",
   "metadata": {},
   "outputs": [],
   "source": [
    "model = NMF(n_components=3, init='random', random_state=0)\n",
    "W = model.fit_transform(B_mag)\n",
    "H = model.components_"
   ]
  },
  {
   "cell_type": "code",
   "execution_count": 18,
   "id": "f543a3a3",
   "metadata": {},
   "outputs": [
    {
     "data": {
      "text/plain": [
       "array([[0.00030418, 0.0741612 , 0.        ],\n",
       "       [0.11468899, 0.        , 0.00103566],\n",
       "       [0.        , 0.00089241, 0.09152173]])"
      ]
     },
     "execution_count": 18,
     "metadata": {},
     "output_type": "execute_result"
    }
   ],
   "source": [
    "W"
   ]
  },
  {
   "cell_type": "markdown",
   "id": "df6dbc69",
   "metadata": {},
   "source": [
    "### Writting Output"
   ]
  },
  {
   "cell_type": "code",
   "execution_count": 19,
   "id": "0efdb4c4",
   "metadata": {},
   "outputs": [],
   "source": [
    "out_path = \"/home/rajesh/Desktop/\""
   ]
  },
  {
   "cell_type": "code",
   "execution_count": 284,
   "id": "70d23f99",
   "metadata": {},
   "outputs": [],
   "source": [
    "sf.write(out_path+'Emridangam.wav', H[0], 44100) #Estimated\n",
    "sf.write(out_path+'Evocals.wav', H[1], 44100)\n",
    "sf.write(out_path+'Eviolin.wav', H[2], 44100)"
   ]
  },
  {
   "cell_type": "markdown",
   "id": "2032a614",
   "metadata": {},
   "source": [
    "##### writting non-negative audios"
   ]
  },
  {
   "cell_type": "code",
   "execution_count": 21,
   "id": "2b3fcb8a",
   "metadata": {},
   "outputs": [],
   "source": [
    "sf.write(out_path+'Amridangam.wav', np.abs(b1), 44100) #Absolute Original\n",
    "sf.write(out_path+'Avocals.wav', np.abs(b2), 44100)\n",
    "sf.write(out_path+'Aviolin.wav', np.abs(b3), 44100)"
   ]
  },
  {
   "cell_type": "code",
   "execution_count": 22,
   "id": "ea91cb6c",
   "metadata": {},
   "outputs": [],
   "source": [
    "sf.write(out_path+'Omridangam.wav', b1, 44100) #Original\n",
    "sf.write(out_path+'Ovocals.wav', b2, 44100)\n",
    "sf.write(out_path+'Oviolin.wav', b3, 44100)"
   ]
  },
  {
   "cell_type": "code",
   "execution_count": 23,
   "id": "8a75e3d4",
   "metadata": {},
   "outputs": [
    {
     "data": {
      "text/plain": [
       "array([False, False, False, ...,  True,  True, False])"
      ]
     },
     "execution_count": 23,
     "metadata": {},
     "output_type": "execute_result"
    }
   ],
   "source": [
    "b1 == np.abs(b1)"
   ]
  },
  {
   "cell_type": "code",
   "execution_count": 24,
   "id": "b0558037",
   "metadata": {},
   "outputs": [
    {
     "data": {
      "text/plain": [
       "array([-1.52587891e-03, -1.77001953e-03, -1.46484375e-03, ...,\n",
       "        9.15527344e-05,  9.15527344e-05, -1.83105469e-04])"
      ]
     },
     "execution_count": 24,
     "metadata": {},
     "output_type": "execute_result"
    }
   ],
   "source": [
    "b1"
   ]
  },
  {
   "cell_type": "code",
   "execution_count": null,
   "id": "7b502cb9",
   "metadata": {},
   "outputs": [],
   "source": []
  }
 ],
 "metadata": {
  "kernelspec": {
   "display_name": "Python 3 (ipykernel)",
   "language": "python",
   "name": "python3"
  },
  "language_info": {
   "codemirror_mode": {
    "name": "ipython",
    "version": 3
   },
   "file_extension": ".py",
   "mimetype": "text/x-python",
   "name": "python",
   "nbconvert_exporter": "python",
   "pygments_lexer": "ipython3",
   "version": "3.10.6"
  }
 },
 "nbformat": 4,
 "nbformat_minor": 5
}
